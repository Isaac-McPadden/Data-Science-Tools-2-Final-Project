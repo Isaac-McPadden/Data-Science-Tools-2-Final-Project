{
 "cells": [
  {
   "cell_type": "code",
   "execution_count": 1,
   "outputs": [],
   "source": [
    "# Imports\n",
    "%matplotlib inline\n",
    "import matplotlib.pyplot as plt\n",
    "import pandas as pd\n",
    "import numpy as np\n",
    "from sklearn.model_selection import train_test_split, GridSearchCV\n",
    "from sklearn.preprocessing import MinMaxScaler\n",
    "from sklearn.linear_model import LogisticRegression\n",
    "from sklearn.feature_selection import RFE"
   ],
   "metadata": {
    "collapsed": false,
    "ExecuteTime": {
     "end_time": "2023-06-05T00:09:24.447913100Z",
     "start_time": "2023-06-05T00:09:19.704950200Z"
    }
   }
  },
  {
   "cell_type": "code",
   "execution_count": 30,
   "metadata": {
    "collapsed": true,
    "ExecuteTime": {
     "end_time": "2023-06-05T00:53:30.669650100Z",
     "start_time": "2023-06-05T00:53:29.535650100Z"
    }
   },
   "outputs": [],
   "source": [
    "df = pd.read_csv('heart_disease_health_indicators_BRFSS2015.csv')\n",
    "# Scale data and split into X and y then test and train\n",
    "X = df.iloc[:, 1:]\n",
    "y = df.iloc[:, 0]\n",
    "scaler = MinMaxScaler()\n",
    "X_scaled = scaler.fit_transform(X)\n",
    "X_scaled_df = pd.DataFrame(X_scaled, columns=X.columns)\n",
    "X_train, X_test, y_train, y_test = train_test_split(X_scaled_df, y, test_size=0.3, random_state=42)"
   ]
  },
  {
   "cell_type": "code",
   "execution_count": 31,
   "outputs": [
    {
     "data": {
      "text/plain": "        HighBP  HighChol  CholCheck       BMI  Smoker  Stroke  Diabetes  \\\n51457      1.0       1.0        1.0  0.267442     0.0     0.0       1.0   \n104586     1.0       1.0        1.0  0.290698     1.0     0.0       0.0   \n135715     0.0       0.0        1.0  0.186047     0.0     0.0       0.0   \n229271     0.0       0.0        1.0  0.127907     0.0     0.0       0.0   \n107891     0.0       0.0        1.0  0.209302     1.0     0.0       0.0   \n...        ...       ...        ...       ...     ...     ...       ...   \n119879     1.0       0.0        1.0  0.383721     1.0     0.0       0.0   \n103694     1.0       1.0        1.0  0.197674     1.0     0.0       0.0   \n131932     0.0       1.0        1.0  0.151163     0.0     0.0       0.0   \n146867     0.0       0.0        0.0  0.127907     0.0     0.0       0.0   \n121958     1.0       0.0        1.0  0.267442     0.0     0.0       1.0   \n\n        PhysActivity  Fruits  Veggies  ...  AnyHealthcare  NoDocbcCost  \\\n51457            1.0     1.0      1.0  ...            1.0          0.0   \n104586           1.0     1.0      1.0  ...            1.0          0.0   \n135715           1.0     1.0      1.0  ...            1.0          0.0   \n229271           1.0     1.0      1.0  ...            1.0          0.0   \n107891           1.0     0.0      1.0  ...            1.0          0.0   \n...              ...     ...      ...  ...            ...          ...   \n119879           1.0     1.0      0.0  ...            1.0          1.0   \n103694           1.0     0.0      1.0  ...            1.0          0.0   \n131932           1.0     1.0      1.0  ...            1.0          0.0   \n146867           0.0     1.0      1.0  ...            1.0          1.0   \n121958           0.0     1.0      1.0  ...            1.0          0.0   \n\n        GenHlth  MentHlth  PhysHlth  DiffWalk  Sex       Age  Education  \\\n51457      1.00       0.0  0.466667       1.0  0.0  0.916667        0.4   \n104586     0.50       0.0  0.066667       0.0  1.0  0.833333        0.8   \n135715     0.25       0.0  0.000000       0.0  0.0  0.333333        1.0   \n229271     0.50       0.0  0.000000       0.0  1.0  0.083333        1.0   \n107891     0.25       0.0  0.166667       0.0  1.0  0.500000        0.6   \n...         ...       ...       ...       ...  ...       ...        ...   \n119879     0.00       0.5  0.000000       0.0  0.0  0.333333        0.6   \n103694     0.50       0.0  0.000000       0.0  1.0  0.833333        1.0   \n131932     0.25       0.0  0.100000       0.0  0.0  0.666667        1.0   \n146867     0.25       0.0  0.000000       0.0  0.0  0.333333        1.0   \n121958     0.50       0.5  0.000000       1.0  0.0  0.833333        0.8   \n\n          Income  \n51457   0.000000  \n104586  0.285714  \n135715  1.000000  \n229271  1.000000  \n107891  0.857143  \n...          ...  \n119879  0.000000  \n103694  0.857143  \n131932  1.000000  \n146867  0.714286  \n121958  0.714286  \n\n[177576 rows x 21 columns]",
      "text/html": "<div>\n<style scoped>\n    .dataframe tbody tr th:only-of-type {\n        vertical-align: middle;\n    }\n\n    .dataframe tbody tr th {\n        vertical-align: top;\n    }\n\n    .dataframe thead th {\n        text-align: right;\n    }\n</style>\n<table border=\"1\" class=\"dataframe\">\n  <thead>\n    <tr style=\"text-align: right;\">\n      <th></th>\n      <th>HighBP</th>\n      <th>HighChol</th>\n      <th>CholCheck</th>\n      <th>BMI</th>\n      <th>Smoker</th>\n      <th>Stroke</th>\n      <th>Diabetes</th>\n      <th>PhysActivity</th>\n      <th>Fruits</th>\n      <th>Veggies</th>\n      <th>...</th>\n      <th>AnyHealthcare</th>\n      <th>NoDocbcCost</th>\n      <th>GenHlth</th>\n      <th>MentHlth</th>\n      <th>PhysHlth</th>\n      <th>DiffWalk</th>\n      <th>Sex</th>\n      <th>Age</th>\n      <th>Education</th>\n      <th>Income</th>\n    </tr>\n  </thead>\n  <tbody>\n    <tr>\n      <th>51457</th>\n      <td>1.0</td>\n      <td>1.0</td>\n      <td>1.0</td>\n      <td>0.267442</td>\n      <td>0.0</td>\n      <td>0.0</td>\n      <td>1.0</td>\n      <td>1.0</td>\n      <td>1.0</td>\n      <td>1.0</td>\n      <td>...</td>\n      <td>1.0</td>\n      <td>0.0</td>\n      <td>1.00</td>\n      <td>0.0</td>\n      <td>0.466667</td>\n      <td>1.0</td>\n      <td>0.0</td>\n      <td>0.916667</td>\n      <td>0.4</td>\n      <td>0.000000</td>\n    </tr>\n    <tr>\n      <th>104586</th>\n      <td>1.0</td>\n      <td>1.0</td>\n      <td>1.0</td>\n      <td>0.290698</td>\n      <td>1.0</td>\n      <td>0.0</td>\n      <td>0.0</td>\n      <td>1.0</td>\n      <td>1.0</td>\n      <td>1.0</td>\n      <td>...</td>\n      <td>1.0</td>\n      <td>0.0</td>\n      <td>0.50</td>\n      <td>0.0</td>\n      <td>0.066667</td>\n      <td>0.0</td>\n      <td>1.0</td>\n      <td>0.833333</td>\n      <td>0.8</td>\n      <td>0.285714</td>\n    </tr>\n    <tr>\n      <th>135715</th>\n      <td>0.0</td>\n      <td>0.0</td>\n      <td>1.0</td>\n      <td>0.186047</td>\n      <td>0.0</td>\n      <td>0.0</td>\n      <td>0.0</td>\n      <td>1.0</td>\n      <td>1.0</td>\n      <td>1.0</td>\n      <td>...</td>\n      <td>1.0</td>\n      <td>0.0</td>\n      <td>0.25</td>\n      <td>0.0</td>\n      <td>0.000000</td>\n      <td>0.0</td>\n      <td>0.0</td>\n      <td>0.333333</td>\n      <td>1.0</td>\n      <td>1.000000</td>\n    </tr>\n    <tr>\n      <th>229271</th>\n      <td>0.0</td>\n      <td>0.0</td>\n      <td>1.0</td>\n      <td>0.127907</td>\n      <td>0.0</td>\n      <td>0.0</td>\n      <td>0.0</td>\n      <td>1.0</td>\n      <td>1.0</td>\n      <td>1.0</td>\n      <td>...</td>\n      <td>1.0</td>\n      <td>0.0</td>\n      <td>0.50</td>\n      <td>0.0</td>\n      <td>0.000000</td>\n      <td>0.0</td>\n      <td>1.0</td>\n      <td>0.083333</td>\n      <td>1.0</td>\n      <td>1.000000</td>\n    </tr>\n    <tr>\n      <th>107891</th>\n      <td>0.0</td>\n      <td>0.0</td>\n      <td>1.0</td>\n      <td>0.209302</td>\n      <td>1.0</td>\n      <td>0.0</td>\n      <td>0.0</td>\n      <td>1.0</td>\n      <td>0.0</td>\n      <td>1.0</td>\n      <td>...</td>\n      <td>1.0</td>\n      <td>0.0</td>\n      <td>0.25</td>\n      <td>0.0</td>\n      <td>0.166667</td>\n      <td>0.0</td>\n      <td>1.0</td>\n      <td>0.500000</td>\n      <td>0.6</td>\n      <td>0.857143</td>\n    </tr>\n    <tr>\n      <th>...</th>\n      <td>...</td>\n      <td>...</td>\n      <td>...</td>\n      <td>...</td>\n      <td>...</td>\n      <td>...</td>\n      <td>...</td>\n      <td>...</td>\n      <td>...</td>\n      <td>...</td>\n      <td>...</td>\n      <td>...</td>\n      <td>...</td>\n      <td>...</td>\n      <td>...</td>\n      <td>...</td>\n      <td>...</td>\n      <td>...</td>\n      <td>...</td>\n      <td>...</td>\n      <td>...</td>\n    </tr>\n    <tr>\n      <th>119879</th>\n      <td>1.0</td>\n      <td>0.0</td>\n      <td>1.0</td>\n      <td>0.383721</td>\n      <td>1.0</td>\n      <td>0.0</td>\n      <td>0.0</td>\n      <td>1.0</td>\n      <td>1.0</td>\n      <td>0.0</td>\n      <td>...</td>\n      <td>1.0</td>\n      <td>1.0</td>\n      <td>0.00</td>\n      <td>0.5</td>\n      <td>0.000000</td>\n      <td>0.0</td>\n      <td>0.0</td>\n      <td>0.333333</td>\n      <td>0.6</td>\n      <td>0.000000</td>\n    </tr>\n    <tr>\n      <th>103694</th>\n      <td>1.0</td>\n      <td>1.0</td>\n      <td>1.0</td>\n      <td>0.197674</td>\n      <td>1.0</td>\n      <td>0.0</td>\n      <td>0.0</td>\n      <td>1.0</td>\n      <td>0.0</td>\n      <td>1.0</td>\n      <td>...</td>\n      <td>1.0</td>\n      <td>0.0</td>\n      <td>0.50</td>\n      <td>0.0</td>\n      <td>0.000000</td>\n      <td>0.0</td>\n      <td>1.0</td>\n      <td>0.833333</td>\n      <td>1.0</td>\n      <td>0.857143</td>\n    </tr>\n    <tr>\n      <th>131932</th>\n      <td>0.0</td>\n      <td>1.0</td>\n      <td>1.0</td>\n      <td>0.151163</td>\n      <td>0.0</td>\n      <td>0.0</td>\n      <td>0.0</td>\n      <td>1.0</td>\n      <td>1.0</td>\n      <td>1.0</td>\n      <td>...</td>\n      <td>1.0</td>\n      <td>0.0</td>\n      <td>0.25</td>\n      <td>0.0</td>\n      <td>0.100000</td>\n      <td>0.0</td>\n      <td>0.0</td>\n      <td>0.666667</td>\n      <td>1.0</td>\n      <td>1.000000</td>\n    </tr>\n    <tr>\n      <th>146867</th>\n      <td>0.0</td>\n      <td>0.0</td>\n      <td>0.0</td>\n      <td>0.127907</td>\n      <td>0.0</td>\n      <td>0.0</td>\n      <td>0.0</td>\n      <td>0.0</td>\n      <td>1.0</td>\n      <td>1.0</td>\n      <td>...</td>\n      <td>1.0</td>\n      <td>1.0</td>\n      <td>0.25</td>\n      <td>0.0</td>\n      <td>0.000000</td>\n      <td>0.0</td>\n      <td>0.0</td>\n      <td>0.333333</td>\n      <td>1.0</td>\n      <td>0.714286</td>\n    </tr>\n    <tr>\n      <th>121958</th>\n      <td>1.0</td>\n      <td>0.0</td>\n      <td>1.0</td>\n      <td>0.267442</td>\n      <td>0.0</td>\n      <td>0.0</td>\n      <td>1.0</td>\n      <td>0.0</td>\n      <td>1.0</td>\n      <td>1.0</td>\n      <td>...</td>\n      <td>1.0</td>\n      <td>0.0</td>\n      <td>0.50</td>\n      <td>0.5</td>\n      <td>0.000000</td>\n      <td>1.0</td>\n      <td>0.0</td>\n      <td>0.833333</td>\n      <td>0.8</td>\n      <td>0.714286</td>\n    </tr>\n  </tbody>\n</table>\n<p>177576 rows × 21 columns</p>\n</div>"
     },
     "execution_count": 31,
     "metadata": {},
     "output_type": "execute_result"
    }
   ],
   "source": [
    "X_train"
   ],
   "metadata": {
    "collapsed": false,
    "ExecuteTime": {
     "end_time": "2023-06-05T00:53:31.895267700Z",
     "start_time": "2023-06-05T00:53:31.819267600Z"
    }
   }
  },
  {
   "cell_type": "code",
   "execution_count": 36,
   "outputs": [
    {
     "name": "stdout",
     "output_type": "stream",
     "text": [
      "Index(['HighChol', 'Stroke', 'GenHlth', 'Age'], dtype='object')\n",
      "Index(['HighChol', 'Stroke', 'GenHlth', 'Sex', 'Age'], dtype='object')\n",
      "Index(['HighBP', 'HighChol', 'Stroke', 'GenHlth', 'Sex', 'Age'], dtype='object')\n",
      "Index(['HighBP', 'HighChol', 'CholCheck', 'Stroke', 'GenHlth', 'Sex', 'Age'], dtype='object')\n",
      "Index(['HighBP', 'HighChol', 'CholCheck', 'Stroke', 'GenHlth', 'Sex', 'Age',\n",
      "       'Income'],\n",
      "      dtype='object')\n"
     ]
    }
   ],
   "source": [
    "for i in range(4,9):\n",
    "    lr = LogisticRegression(solver=\"liblinear\")\n",
    "    rfe_lr = RFE(estimator=lr, n_features_to_select=i)\n",
    "    rfe_lr.fit(X_train, y_train)\n",
    "    selected_features = X.columns[rfe_lr.support_]\n",
    "    # X_selected = X[selected_features]\n",
    "    print(selected_features)\n"
   ],
   "metadata": {
    "collapsed": false,
    "ExecuteTime": {
     "end_time": "2023-06-05T01:01:26.420518400Z",
     "start_time": "2023-06-05T01:00:27.086608900Z"
    }
   }
  },
  {
   "cell_type": "code",
   "execution_count": 37,
   "outputs": [],
   "source": [
    "# make evenly split dataframe using all positive diagnoses and a random sample from negative diagnoses\n",
    "df = pd.read_csv('heart_disease_health_indicators_BRFSS2015.csv')\n",
    "df_ones = df[df['HeartDiseaseorAttack'] == 1]\n",
    "df_zeros = df[df['HeartDiseaseorAttack'] == 0]\n",
    "df_zeros_sampled = df_zeros.sample(n=len(df_ones), random_state=42)\n",
    "df_balanced = pd.concat([df_ones, df_zeros_sampled], axis=0)\n",
    "df_balanced = df_balanced.sample(frac=1, random_state=42).reset_index(drop=True)"
   ],
   "metadata": {
    "collapsed": false,
    "ExecuteTime": {
     "end_time": "2023-06-05T04:26:00.602149200Z",
     "start_time": "2023-06-05T04:25:59.161369300Z"
    }
   }
  },
  {
   "cell_type": "code",
   "execution_count": 38,
   "outputs": [],
   "source": [
    "X = df_balanced.iloc[:, 1:]\n",
    "y = df_balanced.iloc[:, 0]\n",
    "scaler = MinMaxScaler()\n",
    "X_scaled = scaler.fit_transform(X)\n",
    "X_scaled_df = pd.DataFrame(X_scaled, columns=X.columns)\n",
    "X_train, X_test, y_train, y_test = train_test_split(X_scaled_df, y, test_size=0.3, random_state=42)"
   ],
   "metadata": {
    "collapsed": false,
    "ExecuteTime": {
     "end_time": "2023-06-05T04:26:02.745614700Z",
     "start_time": "2023-06-05T04:26:02.690615500Z"
    }
   }
  },
  {
   "cell_type": "code",
   "execution_count": 39,
   "outputs": [
    {
     "name": "stdout",
     "output_type": "stream",
     "text": [
      "Index(['HighChol', 'Stroke', 'GenHlth', 'Age'], dtype='object')\n",
      "Index(['HighChol', 'Stroke', 'GenHlth', 'Sex', 'Age'], dtype='object')\n",
      "Index(['HighChol', 'Stroke', 'GenHlth', 'Sex', 'Age', 'Income'], dtype='object')\n",
      "Index(['HighBP', 'HighChol', 'Stroke', 'GenHlth', 'Sex', 'Age', 'Income'], dtype='object')\n",
      "Index(['HighBP', 'HighChol', 'CholCheck', 'Stroke', 'GenHlth', 'Sex', 'Age',\n",
      "       'Income'],\n",
      "      dtype='object')\n"
     ]
    }
   ],
   "source": [
    "for i in range(4,9):\n",
    "    lr = LogisticRegression(solver=\"liblinear\")\n",
    "    rfe_lr = RFE(estimator=lr, n_features_to_select=i)\n",
    "    rfe_lr.fit(X_train, y_train)\n",
    "    selected_features = X.columns[rfe_lr.support_]\n",
    "    # X_selected = X[selected_features]\n",
    "    print(selected_features)"
   ],
   "metadata": {
    "collapsed": false,
    "ExecuteTime": {
     "end_time": "2023-06-05T04:26:13.772255700Z",
     "start_time": "2023-06-05T04:26:05.276392800Z"
    }
   }
  },
  {
   "cell_type": "code",
   "execution_count": null,
   "outputs": [],
   "source": [],
   "metadata": {
    "collapsed": false
   }
  }
 ],
 "metadata": {
  "kernelspec": {
   "display_name": "Python 3",
   "language": "python",
   "name": "python3"
  },
  "language_info": {
   "codemirror_mode": {
    "name": "ipython",
    "version": 2
   },
   "file_extension": ".py",
   "mimetype": "text/x-python",
   "name": "python",
   "nbconvert_exporter": "python",
   "pygments_lexer": "ipython2",
   "version": "2.7.6"
  }
 },
 "nbformat": 4,
 "nbformat_minor": 0
}
